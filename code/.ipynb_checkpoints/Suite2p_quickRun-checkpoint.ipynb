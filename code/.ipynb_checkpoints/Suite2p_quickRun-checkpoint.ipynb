{
 "cells": [
  {
   "cell_type": "markdown",
   "metadata": {},
   "source": [
    "# Adapted jupyter-notebook for running suite2p algorithm on 2P data"
   ]
  },
  {
   "cell_type": "code",
   "execution_count": 1,
   "metadata": {},
   "outputs": [
    {
     "name": "stderr",
     "output_type": "stream",
     "text": [
      "C:\\Users\\spell\\AppData\\Local\\Temp\\ipykernel_17792\\247265673.py:24: MatplotlibDeprecationWarning: The get_cmap function was deprecated in Matplotlib 3.7 and will be removed two minor releases later. Use ``matplotlib.colormaps[name]`` or ``matplotlib.colormaps.get_cmap(obj)`` instead.\n",
      "  jet = mpl.cm.get_cmap('jet')\n"
     ]
    }
   ],
   "source": [
    "from pathlib import Path\n",
    "from tempfile import TemporaryDirectory\n",
    "import matplotlib.pyplot as plt\n",
    "import numpy as np\n",
    "import os\n",
    "import tifffile\n",
    "import xmltodict\n",
    "import suite2p\n",
    "#import fastplotlib as fpl\n",
    "\n",
    "# Figure Style settings for notebook.\n",
    "import matplotlib as mpl\n",
    "mpl.rcParams.update({\n",
    "    'axes.spines.left': False,\n",
    "    'axes.spines.bottom': False,\n",
    "    'axes.spines.top': False,\n",
    "    'axes.spines.right': False,\n",
    "    'legend.frameon': False,\n",
    "    'figure.subplot.wspace': .01,\n",
    "    'figure.subplot.hspace': .01,\n",
    "    'figure.figsize': (9, 9),\n",
    "    'ytick.major.left': False,\n",
    "})\n",
    "jet = mpl.cm.get_cmap('jet')\n",
    "jet.set_bad(color='k')"
   ]
  },
  {
   "cell_type": "markdown",
   "metadata": {},
   "source": [
    "# Set `movie_path` and let the rest work\n",
    "\n",
    "When you are finished, open Suite2p_quickViz, change the file path and visualize the movie overlaid with the components. You should toggle between the suite2p GUI and the fastplotlib plots"
   ]
  },
  {
   "cell_type": "code",
   "execution_count": 2,
   "metadata": {},
   "outputs": [
    {
     "data": {
      "text/plain": [
       "(33186, 512, 512)"
      ]
     },
     "execution_count": 2,
     "metadata": {},
     "output_type": "execute_result"
    }
   ],
   "source": [
    "movie_path = r\"C:\\Users\\spell\\Desktop\\John\\cleanLines1_img\\img_mmap_suite2p_z.tif\"\n",
    "images = tifffile.memmap(movie_path)\n",
    "images.shape"
   ]
  },
  {
   "cell_type": "markdown",
   "metadata": {},
   "source": [
    "z plane analysis requires (z,y,x) shape and therefore (t,z,y,x)"
   ]
  },
  {
   "cell_type": "code",
   "execution_count": 3,
   "metadata": {},
   "outputs": [
    {
     "data": {
      "text/plain": [
       "{'data_path': ['C:\\\\Users\\\\spell\\\\Desktop\\\\John\\\\cleanLines1_img'],\n",
       " 'tiff_list': ['img_mmap_suite2p_z.tif']}"
      ]
     },
     "execution_count": 3,
     "metadata": {},
     "output_type": "execute_result"
    }
   ],
   "source": [
    "# CHANGE ME\n",
    "gcamp = '6f' # change if sensor is different\n",
    "\n",
    "#___________________________________________#\n",
    "\n",
    "# movies and associated frame rates\n",
    "root_path = os.path.split(movie_path)[0]\n",
    "movie_name = os.path.split(movie_path)[1]\n",
    "\n",
    "# load movie\n",
    "images=tifffile.memmap(movie_path)\n",
    "\n",
    "# get metadata\n",
    "root_contents = os.listdir(root_path)\n",
    "metadata_file = [i for i in root_contents if '.xml' in i][0]\n",
    "metadata_path = os.path.join(root_path,metadata_file)\n",
    "file = xmltodict.parse(open(metadata_path,\"r\").read()) # .xml file\n",
    "\n",
    "# define frame rate based on metadata\n",
    "fr = float(file['ThorImageExperiment']['LSM']['@frameRate'])\n",
    "\n",
    "# default ops\n",
    "ops = suite2p.default_ops()\n",
    "ops['fs']=fr\n",
    "# gcamp\n",
    "if '6f' in gcamp or '8f' in gcamp: # check the 8f\n",
    "    ops['tau'] = 0.7 # gcampe6f\n",
    "elif '6m' in gcamp:\n",
    "    ops['tau'] = 1.0\n",
    "elif '6s' in gcamp:\n",
    "    ops['tau'] = 1.3\n",
    "ops['save_NWB']=False # set to false for now\n",
    "\n",
    "# if the shape of your images data is > 3, then you have a z-plane\n",
    "if len(images.shape) > 3 and len(images.shape) < 5:\n",
    "    print(\"z-plane detected. If this is not true, stop and troubleshoot\")\n",
    "    ops['nplanes']=images.shape[-1]\n",
    "ops['nplanes']=3\n",
    "\n",
    "# set db, this overrides the ops variable\n",
    "db = {\n",
    "    'data_path': [root_path],\n",
    "    'tiff_list': [movie_name],\n",
    "}\n",
    "db\n",
    "\n",
    "# run suite2p algorithm\n",
    "#output_ops = suite2p.run_s2p(ops=ops, db=db)"
   ]
  },
  {
   "cell_type": "code",
   "execution_count": 5,
   "metadata": {},
   "outputs": [
    {
     "data": {
      "text/plain": [
       "{'suite2p_version': '0.14.2',\n",
       " 'look_one_level_down': False,\n",
       " 'fast_disk': [],\n",
       " 'delete_bin': False,\n",
       " 'mesoscan': False,\n",
       " 'bruker': False,\n",
       " 'bruker_bidirectional': False,\n",
       " 'h5py': [],\n",
       " 'h5py_key': 'data',\n",
       " 'nwb_file': '',\n",
       " 'nwb_driver': '',\n",
       " 'nwb_series': '',\n",
       " 'save_path0': '',\n",
       " 'save_folder': [],\n",
       " 'subfolders': [],\n",
       " 'move_bin': False,\n",
       " 'nplanes': 3,\n",
       " 'nchannels': 1,\n",
       " 'functional_chan': 1,\n",
       " 'tau': 0.7,\n",
       " 'fs': 30.043,\n",
       " 'force_sktiff': False,\n",
       " 'frames_include': -1,\n",
       " 'multiplane_parallel': False,\n",
       " 'ignore_flyback': [],\n",
       " 'preclassify': 0.0,\n",
       " 'save_mat': False,\n",
       " 'save_NWB': False,\n",
       " 'combined': True,\n",
       " 'aspect': 1.0,\n",
       " 'do_bidiphase': False,\n",
       " 'bidiphase': 0,\n",
       " 'bidi_corrected': False,\n",
       " 'do_registration': True,\n",
       " 'two_step_registration': False,\n",
       " 'keep_movie_raw': False,\n",
       " 'nimg_init': 300,\n",
       " 'batch_size': 500,\n",
       " 'maxregshift': 0.1,\n",
       " 'align_by_chan': 1,\n",
       " 'reg_tif': False,\n",
       " 'reg_tif_chan2': False,\n",
       " 'subpixel': 10,\n",
       " 'smooth_sigma_time': 0,\n",
       " 'smooth_sigma': 1.15,\n",
       " 'th_badframes': 1.0,\n",
       " 'norm_frames': True,\n",
       " 'force_refImg': False,\n",
       " 'pad_fft': False,\n",
       " 'nonrigid': True,\n",
       " 'block_size': [128, 128],\n",
       " 'snr_thresh': 1.2,\n",
       " 'maxregshiftNR': 5,\n",
       " '1Preg': False,\n",
       " 'spatial_hp_reg': 42,\n",
       " 'pre_smooth': 0,\n",
       " 'spatial_taper': 40,\n",
       " 'roidetect': True,\n",
       " 'spikedetect': True,\n",
       " 'sparse_mode': True,\n",
       " 'spatial_scale': 0,\n",
       " 'connected': True,\n",
       " 'nbinned': 5000,\n",
       " 'max_iterations': 20,\n",
       " 'threshold_scaling': 1.0,\n",
       " 'max_overlap': 0.75,\n",
       " 'high_pass': 100,\n",
       " 'spatial_hp_detect': 25,\n",
       " 'denoise': False,\n",
       " 'anatomical_only': 0,\n",
       " 'diameter': 0,\n",
       " 'cellprob_threshold': 0.0,\n",
       " 'flow_threshold': 1.5,\n",
       " 'spatial_hp_cp': 0,\n",
       " 'pretrained_model': 'cyto',\n",
       " 'soma_crop': True,\n",
       " 'neuropil_extract': True,\n",
       " 'inner_neuropil_radius': 2,\n",
       " 'min_neuropil_pixels': 350,\n",
       " 'lam_percentile': 50.0,\n",
       " 'allow_overlap': False,\n",
       " 'use_builtin_classifier': False,\n",
       " 'classifier_path': '',\n",
       " 'chan2_thres': 0.65,\n",
       " 'baseline': 'maximin',\n",
       " 'win_baseline': 60.0,\n",
       " 'sig_baseline': 10.0,\n",
       " 'prctile_baseline': 8.0,\n",
       " 'neucoeff': 0.7}"
      ]
     },
     "execution_count": 5,
     "metadata": {},
     "output_type": "execute_result"
    }
   ],
   "source": [
    "ops['do_registration']=True"
   ]
  },
  {
   "cell_type": "code",
   "execution_count": null,
   "metadata": {},
   "outputs": [],
   "source": []
  }
 ],
 "metadata": {
  "kernelspec": {
   "display_name": "Python 3 (ipykernel)",
   "language": "python",
   "name": "python3"
  },
  "language_info": {
   "codemirror_mode": {
    "name": "ipython",
    "version": 3
   },
   "file_extension": ".py",
   "mimetype": "text/x-python",
   "name": "python",
   "nbconvert_exporter": "python",
   "pygments_lexer": "ipython3",
   "version": "3.9.18"
  }
 },
 "nbformat": 4,
 "nbformat_minor": 4
}
